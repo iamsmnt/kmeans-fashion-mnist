{
  "nbformat": 4,
  "nbformat_minor": 0,
  "metadata": {
    "colab": {
      "name": "fashionMNIST_Kmeans.ipynb",
      "provenance": []
    },
    "kernelspec": {
      "name": "python3",
      "display_name": "Python 3"
    },
    "language_info": {
      "name": "python"
    }
  },
  "cells": [
    {
      "cell_type": "code",
      "metadata": {
        "id": "0eZ6Xrsn7Wwi"
      },
      "source": [
        "import sklearn\n",
        "from sklearn.cluster import MiniBatchKMeans\n",
        "import sys\n",
        "import tensorflow as tf\n",
        "import numpy as np\n",
        "from sklearn import metrics\n",
        "from sklearn.cluster import KMeans\n",
        "from sklearn.metrics import accuracy_score, confusion_matrix, normalized_mutual_info_score\n",
        "from keras.datasets import mnist"
      ],
      "execution_count": 9,
      "outputs": []
    },
    {
      "cell_type": "code",
      "metadata": {
        "id": "BEFWqFa57iiJ"
      },
      "source": [
        "import numpy as np\n",
        "import os\n",
        "import matplotlib.pyplot as plt\n",
        "from sklearn.model_selection import train_test_split\n",
        "from sklearn.metrics import classification_report\n",
        "import keras\n",
        "from keras.models import Sequential\n",
        "from keras.layers import Dense, Dropout, Conv2D, MaxPool2D, UpSampling2D, Activation\n",
        "from keras import backend as K"
      ],
      "execution_count": 10,
      "outputs": []
    },
    {
      "cell_type": "code",
      "metadata": {
        "colab": {
          "base_uri": "https://localhost:8080/"
        },
        "id": "69iB80wt7kCN",
        "outputId": "51645447-4324-4930-ec18-0993fa84cc28"
      },
      "source": [
        "(x_train, y_train),(x_test, y_test)=tf.keras.datasets.fashion_mnist.load_data()\n",
        "x=np.concatenate((x_train, x_test))\n",
        "y=np.concatenate((y_train, y_test))\n",
        "print(x.shape)\n",
        "x=x_train.reshape((x_train.shape[0],-1))\n",
        "x=np.divide(x.astype(float),255)\n",
        "kmeans = KMeans(n_clusters = 10)\n",
        "kmeans.fit(x)"
      ],
      "execution_count": 4,
      "outputs": [
        {
          "output_type": "stream",
          "name": "stdout",
          "text": [
            "Downloading data from https://storage.googleapis.com/tensorflow/tf-keras-datasets/train-labels-idx1-ubyte.gz\n",
            "32768/29515 [=================================] - 0s 0us/step\n",
            "40960/29515 [=========================================] - 0s 0us/step\n",
            "Downloading data from https://storage.googleapis.com/tensorflow/tf-keras-datasets/train-images-idx3-ubyte.gz\n",
            "26427392/26421880 [==============================] - 0s 0us/step\n",
            "26435584/26421880 [==============================] - 0s 0us/step\n",
            "Downloading data from https://storage.googleapis.com/tensorflow/tf-keras-datasets/t10k-labels-idx1-ubyte.gz\n",
            "16384/5148 [===============================================================================================] - 0s 0us/step\n",
            "Downloading data from https://storage.googleapis.com/tensorflow/tf-keras-datasets/t10k-images-idx3-ubyte.gz\n",
            "4423680/4422102 [==============================] - 0s 0us/step\n",
            "4431872/4422102 [==============================] - 0s 0us/step\n",
            "(70000, 28, 28)\n"
          ]
        },
        {
          "output_type": "execute_result",
          "data": {
            "text/plain": [
              "KMeans(n_clusters=10)"
            ]
          },
          "metadata": {},
          "execution_count": 4
        }
      ]
    },
    {
      "cell_type": "code",
      "metadata": {
        "id": "iXpCjU437oWv"
      },
      "source": [
        "def infer_cluster_labels(kmeans, actual_labels):\n",
        "    inferred_labels = {}\n",
        "    for i in range(kmeans.n_clusters):\n",
        "        labels = []\n",
        "        index = np.where(kmeans.labels_ == i)\n",
        "        labels.append(actual_labels[index])\n",
        "        if len(labels[0]) == 1:\n",
        "            counts = np.bincount(labels[0])\n",
        "        else:\n",
        "            counts = np.bincount(np.squeeze(labels))\n",
        "        if np.argmax(counts) in inferred_labels:\n",
        "            inferred_labels[np.argmax(counts)].append(i)\n",
        "        else:\n",
        "            inferred_labels[np.argmax(counts)] = [i]      \n",
        "    return inferred_labels  "
      ],
      "execution_count": 5,
      "outputs": []
    },
    {
      "cell_type": "code",
      "metadata": {
        "id": "2qr9Wr_B8B2F"
      },
      "source": [
        "def infer_data_labels(X_labels, cluster_labels):\n",
        "    predicted_labels = np.zeros(len(X_labels)).astype(np.uint8)    \n",
        "    for i, cluster in enumerate(X_labels):\n",
        "        for key, value in cluster_labels.items():\n",
        "            if cluster in value:\n",
        "                predicted_labels[i] = key\n",
        "                \n",
        "    return predicted_labels"
      ],
      "execution_count": 6,
      "outputs": []
    },
    {
      "cell_type": "code",
      "metadata": {
        "colab": {
          "base_uri": "https://localhost:8080/"
        },
        "id": "6-kHpmek8ErO",
        "outputId": "cd4236d3-8a2f-4afe-c9cd-adf17da01ec1"
      },
      "source": [
        "n_clusters=10\n",
        "cluster_labels = infer_cluster_labels(kmeans, y_train)\n",
        "X_clusters = kmeans.predict(x)\n",
        "predicted_labels = infer_data_labels(X_clusters, cluster_labels)\n",
        "print(predicted_labels[:20])\n",
        "print(y_train[:20])"
      ],
      "execution_count": 7,
      "outputs": [
        {
          "output_type": "stream",
          "name": "stdout",
          "text": [
            "[9 0 1 6 3 4 7 4 5 5 0 9 7 5 7 9 1 0 4 5]\n",
            "[9 0 0 3 0 2 7 2 5 5 0 9 5 5 7 9 1 0 6 4]\n"
          ]
        }
      ]
    },
    {
      "cell_type": "code",
      "metadata": {
        "id": "e5cuT4nO8IP5"
      },
      "source": [
        "def calculate_metrics(estimator, data, labels):   \n",
        "    print('Homogeneity: {}'.format(metrics.homogeneity_score(labels, estimator.labels_)))\n",
        "    print('Inertia: {}'.format(estimator.inertia_))\n",
        "    print('Number of Clusters: {}'.format(estimator.n_clusters))"
      ],
      "execution_count": 11,
      "outputs": []
    },
    {
      "cell_type": "code",
      "metadata": {
        "colab": {
          "base_uri": "https://localhost:8080/"
        },
        "id": "W6pEDOqR8Kqp",
        "outputId": "f324c605-a41b-4c09-986c-a1c96e6fabbe"
      },
      "source": [
        "clusters = [10]\n",
        "for n_clusters in clusters:\n",
        "    estimator = MiniBatchKMeans(n_clusters = n_clusters)\n",
        "    estimator.fit(x)\n",
        "    calculate_metrics(estimator, x, y_train)\n",
        "    cluster_labels = infer_cluster_labels(estimator, y_train)\n",
        "    predicted_Y = infer_data_labels(estimator.labels_, cluster_labels)\n",
        "    print('KMeans Accuracy: {}\\n'.format(metrics.accuracy_score(y_train, predicted_Y)))"
      ],
      "execution_count": 12,
      "outputs": [
        {
          "output_type": "stream",
          "name": "stdout",
          "text": [
            "Homogeneity: 0.4699382875722443\n",
            "Inertia: 1984271.3511566161\n",
            "Number of Clusters: 10\n",
            "KMeans Accuracy: 0.49738333333333334\n",
            "\n"
          ]
        }
      ]
    },
    {
      "cell_type": "code",
      "metadata": {
        "id": "golkdmpp8WFf"
      },
      "source": [
        "#Normalizing\n",
        "x_train=x_train.reshape(-1,28,28,1)/255\n",
        "x_test=x_test.reshape(-1,28,28,1)/255\n",
        "x_train, x_validate, y_train, y_validate = train_test_split(x_train, y_train, test_size=0.2, stratify=y_train, random_state=123)"
      ],
      "execution_count": 13,
      "outputs": []
    },
    {
      "cell_type": "code",
      "metadata": {
        "colab": {
          "base_uri": "https://localhost:8080/"
        },
        "id": "MKE8nBe_8dvv",
        "outputId": "49d29024-acbe-4d6b-cd60-7e89aa0e8961"
      },
      "source": [
        "#Auto Encoder using K-Means clustering\n",
        "from keras.layers import Input, Dense\n",
        "from keras.models import Model\n",
        "model = Sequential()\n",
        "model.add(Conv2D(14, kernel_size=3, padding='same', activation='relu', input_shape=(28,28,1)))\n",
        "model.add(MaxPool2D((2,2), padding='same'))\n",
        "model.add(Dropout(0.2))\n",
        "model.add(Conv2D(7, kernel_size=3, padding='same', activation='relu'))\n",
        "model.add(MaxPool2D((2,2), padding='same'))\n",
        "model.add(Dropout(0.2))\n",
        "model.add(Conv2D(7, kernel_size=3, padding='same', activation='relu'))\n",
        "model.add(UpSampling2D((2,2)))\n",
        "model.add(Dropout(0.2))\n",
        "model.add(Conv2D(14, kernel_size=3, padding='same', activation='relu'))\n",
        "model.add(UpSampling2D((2,2)))\n",
        "model.add(Dropout(0.2))\n",
        "model.add(Conv2D(1, kernel_size=3, padding='same', activation='relu'))\n",
        "model.compile(optimizer=\"sgd\", loss=\"mse\", metrics=['accuracy'])\n",
        "model.summary()"
      ],
      "execution_count": 16,
      "outputs": [
        {
          "output_type": "stream",
          "name": "stdout",
          "text": [
            "Model: \"sequential\"\n",
            "_________________________________________________________________\n",
            " Layer (type)                Output Shape              Param #   \n",
            "=================================================================\n",
            " conv2d (Conv2D)             (None, 28, 28, 14)        140       \n",
            "                                                                 \n",
            " max_pooling2d (MaxPooling2D  (None, 14, 14, 14)       0         \n",
            " )                                                               \n",
            "                                                                 \n",
            " dropout (Dropout)           (None, 14, 14, 14)        0         \n",
            "                                                                 \n",
            " conv2d_1 (Conv2D)           (None, 14, 14, 7)         889       \n",
            "                                                                 \n",
            " max_pooling2d_1 (MaxPooling  (None, 7, 7, 7)          0         \n",
            " 2D)                                                             \n",
            "                                                                 \n",
            " dropout_1 (Dropout)         (None, 7, 7, 7)           0         \n",
            "                                                                 \n",
            " conv2d_2 (Conv2D)           (None, 7, 7, 7)           448       \n",
            "                                                                 \n",
            " up_sampling2d (UpSampling2D  (None, 14, 14, 7)        0         \n",
            " )                                                               \n",
            "                                                                 \n",
            " dropout_2 (Dropout)         (None, 14, 14, 7)         0         \n",
            "                                                                 \n",
            " conv2d_3 (Conv2D)           (None, 14, 14, 14)        896       \n",
            "                                                                 \n",
            " up_sampling2d_1 (UpSampling  (None, 28, 28, 14)       0         \n",
            " 2D)                                                             \n",
            "                                                                 \n",
            " dropout_3 (Dropout)         (None, 28, 28, 14)        0         \n",
            "                                                                 \n",
            " conv2d_4 (Conv2D)           (None, 28, 28, 1)         127       \n",
            "                                                                 \n",
            "=================================================================\n",
            "Total params: 2,500\n",
            "Trainable params: 2,500\n",
            "Non-trainable params: 0\n",
            "_________________________________________________________________\n"
          ]
        }
      ]
    },
    {
      "cell_type": "code",
      "metadata": {
        "colab": {
          "base_uri": "https://localhost:8080/"
        },
        "id": "fODS732B8gQM",
        "outputId": "c8f9fa4e-9165-4647-eb05-a99323134dc2"
      },
      "source": [
        "history_AE=model.fit(x_train, x_train, epochs=5, batch_size=256, validation_data=(x_validate, x_validate), verbose=1)"
      ],
      "execution_count": 18,
      "outputs": [
        {
          "output_type": "stream",
          "name": "stdout",
          "text": [
            "Epoch 1/5\n",
            "188/188 [==============================] - 71s 376ms/step - loss: 0.0677 - accuracy: 0.4930 - val_loss: 0.0594 - val_accuracy: 0.5017\n",
            "Epoch 2/5\n",
            "188/188 [==============================] - 69s 366ms/step - loss: 0.0580 - accuracy: 0.4960 - val_loss: 0.0590 - val_accuracy: 0.5019\n",
            "Epoch 3/5\n",
            "188/188 [==============================] - 70s 371ms/step - loss: 0.0551 - accuracy: 0.4973 - val_loss: 0.0582 - val_accuracy: 0.5020\n",
            "Epoch 4/5\n",
            "188/188 [==============================] - 72s 381ms/step - loss: 0.0533 - accuracy: 0.4980 - val_loss: 0.0574 - val_accuracy: 0.5021\n",
            "Epoch 5/5\n",
            "188/188 [==============================] - 72s 381ms/step - loss: 0.0519 - accuracy: 0.4984 - val_loss: 0.0565 - val_accuracy: 0.5022\n"
          ]
        }
      ]
    },
    {
      "cell_type": "code",
      "metadata": {
        "colab": {
          "base_uri": "https://localhost:8080/",
          "height": 295
        },
        "id": "M72_c9vX8t9i",
        "outputId": "775a0a98-7c2b-4c6c-f453-c633113b4c50"
      },
      "source": [
        "def lossPlot():\n",
        "    trainingLoss,=plt.plot(history_AE.history['loss'],\"r--\")\n",
        "    validationLoss,=plt.plot(history_AE.history['val_loss'],\"b--\")\n",
        "    q=plt.legend([trainingLoss,validationLoss],[\"Training Loss\",\"Validation Loss\"])\n",
        "    plt.xlabel(\"Epoch\")\n",
        "    plt.ylabel(\"Loss\")\n",
        "    plt.title(\"Training Loss & Validation Loss vs Number of Epochs Graph\")\n",
        "    plt.show()\n",
        "lossPlot()"
      ],
      "execution_count": 19,
      "outputs": [
        {
          "output_type": "display_data",
          "data": {
            "image/png": "[encoded data removed]",
            "text/plain": [
              "<Figure size 432x288 with 1 Axes>"
            ]
          },
          "metadata": {
            "needs_background": "light"
          }
        }
      ]
    },
    {
      "cell_type": "code",
      "metadata": {
        "id": "sqTPjHq1-RL4"
      },
      "source": [
        ""
      ],
      "execution_count": null,
      "outputs": []
    }
  ]
}